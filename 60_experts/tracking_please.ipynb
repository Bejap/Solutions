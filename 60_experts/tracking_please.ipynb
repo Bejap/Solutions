{
 "cells": [
  {
   "cell_type": "code",
   "id": "initial_id",
   "metadata": {
    "collapsed": true,
    "ExecuteTime": {
     "end_time": "2025-04-10T07:52:59.975522Z",
     "start_time": "2025-04-10T07:52:59.958486Z"
    }
   },
   "source": [
    "class Player:\n",
    "    def __init__(self, id, actions):\n",
    "        self.id = id\n",
    "        self.possible_actions = list(actions)  # egne mulige handlinger\n",
    "        self.known_actions = []  # Liste af (player_id, action)\n",
    "\n",
    "    def observe(self, player_id, action):\n",
    "        if player_id != self.id:\n",
    "            self.known_actions.append((player_id, action))\n",
    "\n",
    "    def __str__(self):\n",
    "        s = f\"Player {self.id}:\\n  Egne handlinger: {self.possible_actions}\\n  Kendte handlinger:\\n\"\n",
    "        player_card_list = [[0] * 8, [0] * 8, [0] * 8, [0] * 8]\n",
    "        for i in range(len(self.possible_actions)):\n",
    "            card_pos = self.possible_actions[i] - 2\n",
    "            player_card_list[self.id - 1][card_pos] = 1\n",
    "            \n",
    "        \n",
    "        for p_id, act in self.known_actions:\n",
    "            \n",
    "            card_pos = act - 2\n",
    "            player_card_list[p_id - 1][card_pos] = 1\n",
    "            s += f\"    Player {p_id} spillede {player_card_list}\\n\"\n",
    "        return s\n"
   ],
   "outputs": [],
   "execution_count": 45
  },
  {
   "metadata": {
    "ExecuteTime": {
     "end_time": "2025-04-10T07:53:00.124323Z",
     "start_time": "2025-04-10T07:53:00.120016Z"
    }
   },
   "cell_type": "code",
   "source": [
    "def perform_action(player_list, player_id, action):\n",
    "    print(f\"\\n Player {player_id} spiller {action}\")\n",
    "    for player in player_list:\n",
    "        player.observe(player_id, action)\n",
    "\n"
   ],
   "id": "fa4304d599f8f6b8",
   "outputs": [],
   "execution_count": 46
  },
  {
   "metadata": {
    "ExecuteTime": {
     "end_time": "2025-04-10T07:58:54.164915Z",
     "start_time": "2025-04-10T07:58:54.155199Z"
    }
   },
   "cell_type": "code",
   "source": [
    "# Initialiser spillere\n",
    "players = [\n",
    "    Player(1, [1, 5]),\n",
    "    Player(2, [2, 6]),\n",
    "    Player(3, [3, 7]),\n",
    "    Player(4, [4, 8])\n",
    "]\n",
    "\n",
    "# Nogle handlinger spilles\n",
    "perform_action(players, 3, 7)\n",
    "perform_action(players, 2, 2)\n",
    "perform_action(players, 4, 4)\n",
    "perform_action(players, 1, 1)\n",
    "perform_action(players, 3, 3)\n",
    "\n",
    "# Udskriv viden for hver spiller\n",
    "print(\"\\n=== Status for alle spillere ===\")\n",
    "print(players[1])\n"
   ],
   "id": "4a4fd440824df403",
   "outputs": [
    {
     "name": "stdout",
     "output_type": "stream",
     "text": [
      "\n",
      "🃏 Player 3 spiller 7\n",
      "\n",
      "🃏 Player 2 spiller 2\n",
      "\n",
      "🃏 Player 4 spiller 4\n",
      "\n",
      "🃏 Player 1 spiller 1\n",
      "\n",
      "🃏 Player 3 spiller 3\n",
      "\n",
      "=== Status for alle spillere ===\n",
      "Player 2:\n",
      "  Egne handlinger: [2, 6]\n",
      "  Kendte handlinger:\n",
      "    Player 3 spillede [[0, 0, 0, 0, 0, 0, 0, 0], [1, 0, 0, 0, 1, 0, 0, 0], [0, 0, 0, 0, 0, 1, 0, 0], [0, 0, 0, 0, 0, 0, 0, 0]]\n",
      "    Player 4 spillede [[0, 0, 0, 0, 0, 0, 0, 0], [1, 0, 0, 0, 1, 0, 0, 0], [0, 0, 0, 0, 0, 1, 0, 0], [0, 0, 1, 0, 0, 0, 0, 0]]\n",
      "    Player 1 spillede [[0, 0, 0, 0, 0, 0, 0, 1], [1, 0, 0, 0, 1, 0, 0, 0], [0, 0, 0, 0, 0, 1, 0, 0], [0, 0, 1, 0, 0, 0, 0, 0]]\n",
      "    Player 3 spillede [[0, 0, 0, 0, 0, 0, 0, 1], [1, 0, 0, 0, 1, 0, 0, 0], [0, 1, 0, 0, 0, 1, 0, 0], [0, 0, 1, 0, 0, 0, 0, 0]]\n",
      "\n"
     ]
    }
   ],
   "execution_count": 48
  },
  {
   "metadata": {},
   "cell_type": "code",
   "outputs": [],
   "execution_count": null,
   "source": "",
   "id": "d67949063aed0d98"
  }
 ],
 "metadata": {
  "kernelspec": {
   "display_name": "Python 3",
   "language": "python",
   "name": "python3"
  },
  "language_info": {
   "codemirror_mode": {
    "name": "ipython",
    "version": 2
   },
   "file_extension": ".py",
   "mimetype": "text/x-python",
   "name": "python",
   "nbconvert_exporter": "python",
   "pygments_lexer": "ipython2",
   "version": "2.7.6"
  }
 },
 "nbformat": 4,
 "nbformat_minor": 5
}
