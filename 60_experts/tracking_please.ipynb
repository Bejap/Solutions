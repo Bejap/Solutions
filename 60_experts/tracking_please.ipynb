{
 "cells": [
  {
   "cell_type": "code",
   "id": "initial_id",
   "metadata": {
    "collapsed": true,
    "ExecuteTime": {
     "end_time": "2025-04-09T11:18:45.100572Z",
     "start_time": "2025-04-09T11:18:45.077750Z"
    }
   },
   "source": [
    "class Player:\n",
    "    def __init__(self, id, actions):\n",
    "        self.id = id\n",
    "        self.possible_actions = list(actions)  # egne mulige handlinger\n",
    "        self.known_actions = []  # Liste af (player_id, action)\n",
    "\n",
    "    def observe(self, player_id, action):\n",
    "        if player_id != self.id:\n",
    "            self.known_actions.append((player_id, action))\n",
    "\n",
    "    def __str__(self):\n",
    "        s = f\"Player {self.id}:\\n  Egne handlinger: {self.possible_actions}\\n  Kendte handlinger:\\n\"\n",
    "        for p_id, act in self.known_actions:\n",
    "            s += f\"    Player {p_id} spillede {act}\\n\"\n",
    "        return s\n"
   ],
   "outputs": [],
   "execution_count": 1
  },
  {
   "metadata": {
    "ExecuteTime": {
     "end_time": "2025-04-09T11:22:26.106065Z",
     "start_time": "2025-04-09T11:22:26.098248Z"
    }
   },
   "cell_type": "code",
   "source": [
    "def perform_action(player_list, player_id, action):\n",
    "    print(f\"\\n🃏 Player {player_id} spiller {action}\")\n",
    "    for player in player_list:\n",
    "        player.observe(player_id, action)\n"
   ],
   "id": "fa4304d599f8f6b8",
   "outputs": [],
   "execution_count": 4
  },
  {
   "metadata": {
    "ExecuteTime": {
     "end_time": "2025-04-09T11:22:44.283495Z",
     "start_time": "2025-04-09T11:22:44.268658Z"
    }
   },
   "cell_type": "code",
   "source": [
    "# Initialiser spillere\n",
    "players = [\n",
    "    Player(1, [1, 5]),\n",
    "    Player(2, [2, 6]),\n",
    "    Player(3, [3, 7]),\n",
    "    Player(4, [4, 8])\n",
    "]\n",
    "\n",
    "# Nogle handlinger spilles\n",
    "perform_action(players, 3, 7)\n",
    "perform_action(players, 2, 2)\n",
    "perform_action(players, 4, 4)\n",
    "perform_action(players, 1, 1)\n",
    "perform_action(players, 3, 3)\n",
    "\n",
    "# Udskriv viden for hver spiller\n",
    "print(\"\\n=== Status for alle spillere ===\")\n",
    "for p in players:\n",
    "    print(p)\n"
   ],
   "id": "4a4fd440824df403",
   "outputs": [
    {
     "name": "stdout",
     "output_type": "stream",
     "text": [
      "\n",
      "🃏 Player 3 spiller 7\n",
      "\n",
      "🃏 Player 2 spiller 2\n",
      "\n",
      "🃏 Player 4 spiller 4\n",
      "\n",
      "🃏 Player 1 spiller 1\n",
      "\n",
      "🃏 Player 3 spiller 3\n",
      "\n",
      "=== Status for alle spillere ===\n",
      "Player 1:\n",
      "  Egne handlinger: {1, 5}\n",
      "  Kendte handlinger: {3: {3, 7}, 2: {2}, 4: {4}}\n",
      "Player 2:\n",
      "  Egne handlinger: {2, 6}\n",
      "  Kendte handlinger: {3: {3, 7}, 4: {4}, 1: {1}}\n",
      "Player 3:\n",
      "  Egne handlinger: {3, 7}\n",
      "  Kendte handlinger: {2: {2}, 4: {4}, 1: {1}}\n",
      "Player 4:\n",
      "  Egne handlinger: {8, 4}\n",
      "  Kendte handlinger: {3: {3, 7}, 2: {2}, 1: {1}}\n"
     ]
    }
   ],
   "execution_count": 5
  },
  {
   "metadata": {},
   "cell_type": "code",
   "outputs": [],
   "execution_count": null,
   "source": "",
   "id": "56b372b2a92327b9"
  }
 ],
 "metadata": {
  "kernelspec": {
   "display_name": "Python 3",
   "language": "python",
   "name": "python3"
  },
  "language_info": {
   "codemirror_mode": {
    "name": "ipython",
    "version": 2
   },
   "file_extension": ".py",
   "mimetype": "text/x-python",
   "name": "python",
   "nbconvert_exporter": "python",
   "pygments_lexer": "ipython2",
   "version": "2.7.6"
  }
 },
 "nbformat": 4,
 "nbformat_minor": 5
}
