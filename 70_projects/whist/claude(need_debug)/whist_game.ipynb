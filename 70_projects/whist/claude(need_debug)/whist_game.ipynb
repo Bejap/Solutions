{
 "cells": [
  {
   "cell_type": "code",
   "id": "initial_id",
   "metadata": {
    "collapsed": true,
    "ExecuteTime": {
     "end_time": "2024-10-21T12:34:49.435288Z",
     "start_time": "2024-10-21T12:34:49.425097Z"
    }
   },
   "source": [
    "import random\n",
    "\n",
    "# Card class\n",
    "class Card:\n",
    "    def __init__(self, suit, rank):\n",
    "        self.suit = suit\n",
    "        self.rank = rank\n",
    "\n",
    "    def __str__(self):\n",
    "        return f\"{self.rank} of {self.suit}\""
   ],
   "outputs": [],
   "execution_count": 1
  },
  {
   "metadata": {
    "ExecuteTime": {
     "end_time": "2024-10-21T12:36:15.215416Z",
     "start_time": "2024-10-21T12:36:15.208599Z"
    }
   },
   "cell_type": "code",
   "source": [
    "class Deck:\n",
    "    def __init__(self):\n",
    "        self.cards = []\n",
    "        suits = ['Hearts', 'Diamonds', 'Clubs', 'Spades']\n",
    "        ranks = ['2', '3', '4', '5', '6', '7', '8', '9', '10', 'Jack', 'Queen', 'King', 'Ace']\n",
    "        for suit in suits:\n",
    "            for rank in ranks:\n",
    "                \n",
    "                self.cards.append(Card(suit, rank))\n",
    "                \n",
    "                \n",
    "    def shuffle(self):\n",
    "        random.shuffle(self.cards)\n",
    "    \n",
    "    def deal(self, num_cards):\n",
    "        return [self.cards.pop() for _ in range(num_cards)]"
   ],
   "id": "11cca5a2ab973a64",
   "outputs": [],
   "execution_count": 8
  },
  {
   "metadata": {
    "ExecuteTime": {
     "end_time": "2024-10-21T12:35:13.220614Z",
     "start_time": "2024-10-21T12:35:13.214934Z"
    }
   },
   "cell_type": "code",
   "source": [
    "class Player:\n",
    "    def __init__(self, name):\n",
    "        self.name = name\n",
    "        self.hand = []\n",
    "        self.tricks_won = 0\n",
    "    \n",
    "    def play_card(self, card):\n",
    "        self.hand.remove(card)\n",
    "        return card\n"
   ],
   "id": "b4055e752d721221",
   "outputs": [],
   "execution_count": 3
  },
  {
   "metadata": {
    "ExecuteTime": {
     "end_time": "2024-10-21T12:39:18.043236Z",
     "start_time": "2024-10-21T12:39:18.033281Z"
    }
   },
   "cell_type": "code",
   "source": [
    "class Whist:\n",
    "    def __init__(self, players):\n",
    "        self.players = players\n",
    "        self.deck = Deck()\n",
    "        self.trump_suit = None\n",
    "    \n",
    "    def deal_cards(self):\n",
    "        self.deck.shuffle()\n",
    "        cards_per_player = len(self.deck.cards) // len(self.players)\n",
    "        for player in self.players:\n",
    "            player.hand = self.deck.deal(cards_per_player)\n",
    "        self.trump_suit = random.choice(['Hearts', 'Diamonds', 'Clubs', 'Spades'])\n",
    "    \n",
    "    def play_trick(self, leading_player_index):\n",
    "        trick_cards = []\n",
    "        lead_suit = None\n",
    "        winning_card = None\n",
    "        winning_player = None\n",
    "\n",
    "        for i in range(len(self.players)):\n",
    "            current_player = self.players[(leading_player_index + i) % len(self.players)]\n",
    "            playable_cards = [card for card in current_player.hand if card.suit == lead_suit] if lead_suit else current_player.hand\n",
    "            \n",
    "            if not playable_cards:\n",
    "                playable_cards = current_player.hand\n",
    "            \n",
    "            played_card = random.choice(playable_cards)  # In a real game, this would be player's choice\n",
    "            trick_cards.append(played_card)\n",
    "            current_player.play_card(played_card)\n",
    "            \n",
    "            if not lead_suit:\n",
    "                lead_suit = played_card.suit\n",
    "            \n",
    "            if not winning_card or (played_card.suit == winning_card.suit and self.compare_cards(played_card, winning_card)) or \\\n",
    "               (played_card.suit == self.trump_suit and winning_card.suit != self.trump_suit):\n",
    "                winning_card = played_card\n",
    "                winning_player = current_player\n",
    "        \n",
    "        winning_player.tricks_won += 1\n",
    "        return self.players.index(winning_player)\n",
    "    \n",
    "    def compare_cards(self, card1, card2):\n",
    "        rank_order = {'2': 2, '3': 3, '4': 4, '5': 5, '6': 6, '7': 7, '8': 8, '9': 9, '10': 10,\n",
    "                      'Jack': 11, 'Queen': 12, 'King': 13, 'Ace': 14}\n",
    "        return rank_order[card1.rank] > rank_order[card2.rank]\n",
    "    \n",
    "    def play_game(self):\n",
    "        self.deal_cards()\n",
    "        print(f\"Trump suit: {self.trump_suit}\")\n",
    "        leading_player_index = 0\n",
    "        for _ in range(len(self.players[0].hand)):\n",
    "            leading_player_index = self.play_trick(leading_player_index)\n",
    "        \n",
    "        winner = max(self.players, key=lambda x: x.tricks_won)\n",
    "        return winner"
   ],
   "id": "f806c2adadac376b",
   "outputs": [],
   "execution_count": 11
  },
  {
   "metadata": {
    "ExecuteTime": {
     "end_time": "2024-10-21T12:39:19.413007Z",
     "start_time": "2024-10-21T12:39:19.407200Z"
    }
   },
   "cell_type": "code",
   "source": [
    "if __name__ == \"__main__\":\n",
    "    players = [Player(f\"Player {i+1}\") for i in range(4)]\n",
    "    game = Whist(players)\n",
    "    winner = game.play_game()\n",
    "    print(f\"The winner is {winner.name} with {winner.tricks_won} tricks!\")"
   ],
   "id": "ba0b335a2ea1bccd",
   "outputs": [
    {
     "name": "stdout",
     "output_type": "stream",
     "text": [
      "Trump suit: Clubs\n",
      "The winner is Player 1 with 6 tricks!\n"
     ]
    }
   ],
   "execution_count": 12
  },
  {
   "metadata": {},
   "cell_type": "code",
   "outputs": [],
   "execution_count": null,
   "source": "",
   "id": "37ac2db00e8b2997"
  }
 ],
 "metadata": {
  "kernelspec": {
   "display_name": "Python 3",
   "language": "python",
   "name": "python3"
  },
  "language_info": {
   "codemirror_mode": {
    "name": "ipython",
    "version": 2
   },
   "file_extension": ".py",
   "mimetype": "text/x-python",
   "name": "python",
   "nbconvert_exporter": "python",
   "pygments_lexer": "ipython2",
   "version": "2.7.6"
  }
 },
 "nbformat": 4,
 "nbformat_minor": 5
}
